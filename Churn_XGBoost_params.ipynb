{
 "cells": [
  {
   "cell_type": "code",
   "execution_count": 1,
   "id": "228c3bdf-ec45-4aae-8fbc-09a181e12360",
   "metadata": {},
   "outputs": [],
   "source": [
    "import pandas as pd\n",
    "import numpy as np\n",
    "from catboost import CatBoostClassifier, Pool, cv, CatBoostRegressor\n",
    "from sklearn.model_selection import train_test_split\n",
    "import datetime\n",
    "from sklearn.preprocessing import StandardScaler, OneHotEncoder, LabelEncoder, RobustScaler, MinMaxScaler, OrdinalEncoder, MaxAbsScaler, Normalizer\n",
    "from boruta import BorutaPy\n",
    "from sklearn.model_selection import GridSearchCV, RandomizedSearchCV, StratifiedShuffleSplit, KFold\n",
    "from tqdm.notebook import tqdm\n",
    "import optuna\n",
    "from optuna.samplers import TPESampler\n",
    "from xgboost import XGBClassifier\n",
    "from sklearn.model_selection import cross_validate\n",
    "from sksurv.ensemble import GradientBoostingSurvivalAnalysis"
   ]
  },
  {
   "cell_type": "code",
   "execution_count": 2,
   "id": "c5ec4dfb-435e-4032-b416-e12038053cc9",
   "metadata": {},
   "outputs": [],
   "source": [
    "import matplotlib.pyplot as plt\n",
    "import seaborn as sns"
   ]
  },
  {
   "cell_type": "code",
   "execution_count": 3,
   "id": "87692e8a-c528-4db2-a8b2-f1801fbc97cc",
   "metadata": {},
   "outputs": [],
   "source": [
    "import matplotlib.pyplot as plt\n",
    "import seaborn as sns"
   ]
  },
  {
   "cell_type": "code",
   "execution_count": 4,
   "id": "56a80aec-95f2-4f6a-bcb4-5cd4b41fb28d",
   "metadata": {},
   "outputs": [],
   "source": [
    "from sklearn.metrics import accuracy_score, f1_score, classification_report"
   ]
  },
  {
   "cell_type": "code",
   "execution_count": 5,
   "id": "06858684-5738-43d9-8b59-5aad8239d94a",
   "metadata": {},
   "outputs": [],
   "source": [
    "import time"
   ]
  },
  {
   "cell_type": "code",
   "execution_count": 6,
   "id": "1afeb6b2-cf36-42ea-9af7-eb560cc18d0e",
   "metadata": {},
   "outputs": [],
   "source": [
    "from lazypredict.Supervised import LazyClassifier\n",
    "from sklearn.datasets import load_breast_cancer"
   ]
  },
  {
   "cell_type": "code",
   "execution_count": 7,
   "id": "40c875f2-952d-4f29-b32f-51ae65ce1653",
   "metadata": {},
   "outputs": [],
   "source": [
    "import warnings\n",
    "warnings.filterwarnings('ignore')"
   ]
  },
  {
   "cell_type": "code",
   "execution_count": 8,
   "id": "b9c3c61f-bd78-4be3-a485-f4442f390972",
   "metadata": {},
   "outputs": [],
   "source": [
    "from lifelines.utils import concordance_index"
   ]
  },
  {
   "cell_type": "markdown",
   "id": "3839f93d-ebcc-4221-8d6f-89df90f922da",
   "metadata": {},
   "source": [
    "# Модель"
   ]
  },
  {
   "cell_type": "code",
   "execution_count": 9,
   "id": "7c72ad88-3d02-4738-9f9f-326bd746821e",
   "metadata": {},
   "outputs": [
    {
     "data": {
      "text/html": [
       "<div>\n",
       "<style scoped>\n",
       "    .dataframe tbody tr th:only-of-type {\n",
       "        vertical-align: middle;\n",
       "    }\n",
       "\n",
       "    .dataframe tbody tr th {\n",
       "        vertical-align: top;\n",
       "    }\n",
       "\n",
       "    .dataframe thead th {\n",
       "        text-align: right;\n",
       "    }\n",
       "</style>\n",
       "<table border=\"1\" class=\"dataframe\">\n",
       "  <thead>\n",
       "    <tr style=\"text-align: right;\">\n",
       "      <th></th>\n",
       "      <th>user_id</th>\n",
       "      <th>mcc_code</th>\n",
       "      <th>currency_rk</th>\n",
       "      <th>transaction_amt</th>\n",
       "      <th>transaction_dttm</th>\n",
       "      <th>sign</th>\n",
       "      <th>report</th>\n",
       "      <th>employee_count_nm</th>\n",
       "      <th>bankemplstatus</th>\n",
       "      <th>customer_age</th>\n",
       "      <th>report_dt</th>\n",
       "      <th>day</th>\n",
       "      <th>date</th>\n",
       "      <th>delta_date</th>\n",
       "    </tr>\n",
       "  </thead>\n",
       "  <tbody>\n",
       "    <tr>\n",
       "      <th>0</th>\n",
       "      <td>3</td>\n",
       "      <td>3</td>\n",
       "      <td>1</td>\n",
       "      <td>-183.88</td>\n",
       "      <td>2022-01-28 12:05:33</td>\n",
       "      <td>negative</td>\n",
       "      <td>2</td>\n",
       "      <td>ОТ 101 ДО 500</td>\n",
       "      <td>0</td>\n",
       "      <td>3</td>\n",
       "      <td>2022-08-31</td>\n",
       "      <td>28</td>\n",
       "      <td>2022-01-28</td>\n",
       "      <td>215</td>\n",
       "    </tr>\n",
       "    <tr>\n",
       "      <th>1</th>\n",
       "      <td>3</td>\n",
       "      <td>3</td>\n",
       "      <td>1</td>\n",
       "      <td>-3206.44</td>\n",
       "      <td>2022-01-28 12:52:30</td>\n",
       "      <td>negative</td>\n",
       "      <td>2</td>\n",
       "      <td>ОТ 101 ДО 500</td>\n",
       "      <td>0</td>\n",
       "      <td>3</td>\n",
       "      <td>2022-08-31</td>\n",
       "      <td>28</td>\n",
       "      <td>2022-01-28</td>\n",
       "      <td>215</td>\n",
       "    </tr>\n",
       "    <tr>\n",
       "      <th>2</th>\n",
       "      <td>3</td>\n",
       "      <td>16</td>\n",
       "      <td>1</td>\n",
       "      <td>-153866.89</td>\n",
       "      <td>2022-02-16 14:45:56</td>\n",
       "      <td>negative</td>\n",
       "      <td>2</td>\n",
       "      <td>ОТ 101 ДО 500</td>\n",
       "      <td>0</td>\n",
       "      <td>3</td>\n",
       "      <td>2022-08-31</td>\n",
       "      <td>47</td>\n",
       "      <td>2022-02-16</td>\n",
       "      <td>196</td>\n",
       "    </tr>\n",
       "    <tr>\n",
       "      <th>3</th>\n",
       "      <td>3</td>\n",
       "      <td>56</td>\n",
       "      <td>1</td>\n",
       "      <td>-15144.60</td>\n",
       "      <td>2022-03-09 19:58:29</td>\n",
       "      <td>negative</td>\n",
       "      <td>2</td>\n",
       "      <td>ОТ 101 ДО 500</td>\n",
       "      <td>0</td>\n",
       "      <td>3</td>\n",
       "      <td>2022-08-31</td>\n",
       "      <td>68</td>\n",
       "      <td>2022-03-09</td>\n",
       "      <td>175</td>\n",
       "    </tr>\n",
       "    <tr>\n",
       "      <th>4</th>\n",
       "      <td>3</td>\n",
       "      <td>0</td>\n",
       "      <td>1</td>\n",
       "      <td>5297.91</td>\n",
       "      <td>2022-03-12 18:11:31</td>\n",
       "      <td>positive</td>\n",
       "      <td>2</td>\n",
       "      <td>ОТ 101 ДО 500</td>\n",
       "      <td>0</td>\n",
       "      <td>3</td>\n",
       "      <td>2022-08-31</td>\n",
       "      <td>71</td>\n",
       "      <td>2022-03-12</td>\n",
       "      <td>172</td>\n",
       "    </tr>\n",
       "    <tr>\n",
       "      <th>...</th>\n",
       "      <td>...</td>\n",
       "      <td>...</td>\n",
       "      <td>...</td>\n",
       "      <td>...</td>\n",
       "      <td>...</td>\n",
       "      <td>...</td>\n",
       "      <td>...</td>\n",
       "      <td>...</td>\n",
       "      <td>...</td>\n",
       "      <td>...</td>\n",
       "      <td>...</td>\n",
       "      <td>...</td>\n",
       "      <td>...</td>\n",
       "      <td>...</td>\n",
       "    </tr>\n",
       "    <tr>\n",
       "      <th>13075018</th>\n",
       "      <td>562740</td>\n",
       "      <td>155</td>\n",
       "      <td>1</td>\n",
       "      <td>-2484.37</td>\n",
       "      <td>2023-03-20 11:52:09</td>\n",
       "      <td>negative</td>\n",
       "      <td>12</td>\n",
       "      <td>НЕИЗВЕСТНО</td>\n",
       "      <td>0</td>\n",
       "      <td>0</td>\n",
       "      <td>2023-06-30</td>\n",
       "      <td>79</td>\n",
       "      <td>2023-03-20</td>\n",
       "      <td>102</td>\n",
       "    </tr>\n",
       "    <tr>\n",
       "      <th>13075019</th>\n",
       "      <td>562740</td>\n",
       "      <td>9</td>\n",
       "      <td>1</td>\n",
       "      <td>-187.66</td>\n",
       "      <td>2023-03-20 12:10:22</td>\n",
       "      <td>negative</td>\n",
       "      <td>12</td>\n",
       "      <td>НЕИЗВЕСТНО</td>\n",
       "      <td>0</td>\n",
       "      <td>0</td>\n",
       "      <td>2023-06-30</td>\n",
       "      <td>79</td>\n",
       "      <td>2023-03-20</td>\n",
       "      <td>102</td>\n",
       "    </tr>\n",
       "    <tr>\n",
       "      <th>13075020</th>\n",
       "      <td>562740</td>\n",
       "      <td>1</td>\n",
       "      <td>1</td>\n",
       "      <td>-891.93</td>\n",
       "      <td>2023-03-20 15:53:37</td>\n",
       "      <td>negative</td>\n",
       "      <td>12</td>\n",
       "      <td>НЕИЗВЕСТНО</td>\n",
       "      <td>0</td>\n",
       "      <td>0</td>\n",
       "      <td>2023-06-30</td>\n",
       "      <td>79</td>\n",
       "      <td>2023-03-20</td>\n",
       "      <td>102</td>\n",
       "    </tr>\n",
       "    <tr>\n",
       "      <th>13075021</th>\n",
       "      <td>562740</td>\n",
       "      <td>13</td>\n",
       "      <td>1</td>\n",
       "      <td>-464.47</td>\n",
       "      <td>2023-03-20 15:54:49</td>\n",
       "      <td>negative</td>\n",
       "      <td>12</td>\n",
       "      <td>НЕИЗВЕСТНО</td>\n",
       "      <td>0</td>\n",
       "      <td>0</td>\n",
       "      <td>2023-06-30</td>\n",
       "      <td>79</td>\n",
       "      <td>2023-03-20</td>\n",
       "      <td>102</td>\n",
       "    </tr>\n",
       "    <tr>\n",
       "      <th>13075022</th>\n",
       "      <td>562740</td>\n",
       "      <td>9</td>\n",
       "      <td>1</td>\n",
       "      <td>-188.75</td>\n",
       "      <td>2023-03-20 16:06:45</td>\n",
       "      <td>negative</td>\n",
       "      <td>12</td>\n",
       "      <td>НЕИЗВЕСТНО</td>\n",
       "      <td>0</td>\n",
       "      <td>0</td>\n",
       "      <td>2023-06-30</td>\n",
       "      <td>79</td>\n",
       "      <td>2023-03-20</td>\n",
       "      <td>102</td>\n",
       "    </tr>\n",
       "  </tbody>\n",
       "</table>\n",
       "<p>13075023 rows × 14 columns</p>\n",
       "</div>"
      ],
      "text/plain": [
       "          user_id  mcc_code  currency_rk  transaction_amt    transaction_dttm  \\\n",
       "0               3         3            1          -183.88 2022-01-28 12:05:33   \n",
       "1               3         3            1         -3206.44 2022-01-28 12:52:30   \n",
       "2               3        16            1       -153866.89 2022-02-16 14:45:56   \n",
       "3               3        56            1        -15144.60 2022-03-09 19:58:29   \n",
       "4               3         0            1          5297.91 2022-03-12 18:11:31   \n",
       "...           ...       ...          ...              ...                 ...   \n",
       "13075018   562740       155            1         -2484.37 2023-03-20 11:52:09   \n",
       "13075019   562740         9            1          -187.66 2023-03-20 12:10:22   \n",
       "13075020   562740         1            1          -891.93 2023-03-20 15:53:37   \n",
       "13075021   562740        13            1          -464.47 2023-03-20 15:54:49   \n",
       "13075022   562740         9            1          -188.75 2023-03-20 16:06:45   \n",
       "\n",
       "              sign  report employee_count_nm  bankemplstatus  customer_age  \\\n",
       "0         negative       2     ОТ 101 ДО 500               0             3   \n",
       "1         negative       2     ОТ 101 ДО 500               0             3   \n",
       "2         negative       2     ОТ 101 ДО 500               0             3   \n",
       "3         negative       2     ОТ 101 ДО 500               0             3   \n",
       "4         positive       2     ОТ 101 ДО 500               0             3   \n",
       "...            ...     ...               ...             ...           ...   \n",
       "13075018  negative      12        НЕИЗВЕСТНО               0             0   \n",
       "13075019  negative      12        НЕИЗВЕСТНО               0             0   \n",
       "13075020  negative      12        НЕИЗВЕСТНО               0             0   \n",
       "13075021  negative      12        НЕИЗВЕСТНО               0             0   \n",
       "13075022  negative      12        НЕИЗВЕСТНО               0             0   \n",
       "\n",
       "           report_dt  day        date  delta_date  \n",
       "0         2022-08-31   28  2022-01-28         215  \n",
       "1         2022-08-31   28  2022-01-28         215  \n",
       "2         2022-08-31   47  2022-02-16         196  \n",
       "3         2022-08-31   68  2022-03-09         175  \n",
       "4         2022-08-31   71  2022-03-12         172  \n",
       "...              ...  ...         ...         ...  \n",
       "13075018  2023-06-30   79  2023-03-20         102  \n",
       "13075019  2023-06-30   79  2023-03-20         102  \n",
       "13075020  2023-06-30   79  2023-03-20         102  \n",
       "13075021  2023-06-30   79  2023-03-20         102  \n",
       "13075022  2023-06-30   79  2023-03-20         102  \n",
       "\n",
       "[13075023 rows x 14 columns]"
      ]
     },
     "execution_count": 9,
     "metadata": {},
     "output_type": "execute_result"
    }
   ],
   "source": [
    "df_client = pd.read_csv('clients.csv')\n",
    "df_currency = pd.read_csv('currency_rk.csv')\n",
    "df_mcc_codes = pd.read_csv('mcc_codes.csv')\n",
    "df_report_dates = pd.read_csv('report_dates.csv')\n",
    "df_transactions = pd.read_csv('transactions.csv')\n",
    "df_train = pd.read_csv('train.csv')\n",
    "fun_agg = ['count',  'sum','median','std','nunique']\n",
    "fun_agg_min = ['sum','median','count']\n",
    "df_transactions['sign'] = df_transactions['transaction_amt'].apply(lambda x: 'positive' if x >= 0 else 'negative')\n",
    "df_client = df_client.merge(df_report_dates, on='report')\n",
    "df_transactions = df_transactions.merge(df_client, on='user_id')\n",
    "df_transactions[['currency_rk']] = df_transactions[['currency_rk']].map(lambda x: 0 if x != 1 else 1)\n",
    "df_transactions['transaction_dttm'] = pd.to_datetime(df_transactions['transaction_dttm'])\n",
    "df_transactions['day'] = df_transactions['transaction_dttm'].dt.day_of_year.astype(int)\n",
    "df_transactions['transaction_dttm'] = pd.to_datetime(df_transactions['transaction_dttm'])\n",
    "df_transactions['date'] = df_transactions['transaction_dttm'].dt.date\n",
    "df_transactions['report_dt'] = pd.to_datetime(df_transactions['report_dt']).dt.date\n",
    "df_transactions['delta_date'] = df_transactions['report_dt'] - df_transactions['date']\n",
    "df_transactions.delta_date= df_transactions.delta_date.map(lambda x: x.days)\n",
    "df_transactions['employee_count_nm'] = df_transactions['employee_count_nm'].fillna('НЕИЗВЕСТНО')\n",
    "df_transactions "
   ]
  },
  {
   "cell_type": "code",
   "execution_count": 10,
   "id": "ed00fd18-f457-4c02-851f-a645e92d6c80",
   "metadata": {},
   "outputs": [
    {
     "data": {
      "text/plain": [
       "((64000,), (64000, 1154))"
      ]
     },
     "execution_count": 10,
     "metadata": {},
     "output_type": "execute_result"
    }
   ],
   "source": [
    "#Объедененные фичи\n",
    "t = pd.read_csv('features_X_train__v3.csv')\n",
    "\n",
    "X = t.drop('target', axis=1)\n",
    "y = t['target']\n",
    "\n",
    "\n",
    "#Определение категориальных\n",
    "cat_col = X.select_dtypes(include=['object']).columns.tolist()\n",
    "y.shape, X.shape"
   ]
  },
  {
   "cell_type": "code",
   "execution_count": 11,
   "id": "cd4d79a2-a80a-4f13-b191-c22293a6a3ab",
   "metadata": {},
   "outputs": [],
   "source": [
    "x_train, x_test, y_train, y_test = train_test_split(X.drop(cat_col, axis=1), y,\\\n",
    "                        test_size = 0.20, random_state = 142, stratify=y)"
   ]
  },
  {
   "cell_type": "code",
   "execution_count": 12,
   "id": "b0ffe320-c09e-412d-9bd9-e77cd749b93f",
   "metadata": {},
   "outputs": [
    {
     "data": {
      "text/plain": [
       "((51123,), (51123, 1154))"
      ]
     },
     "execution_count": 12,
     "metadata": {},
     "output_type": "execute_result"
    }
   ],
   "source": [
    "t_d = df_transactions.groupby(['user_id','day'])['mcc_code'].nunique() \n",
    "# t_d = df_transactions.groupby(['user_id','day'])['day'].count() \n",
    "t1 = t_d[t_d>11].unstack()\n",
    "t2 = df_train[['user_id']].merge(t1, on='user_id')\n",
    "\n",
    "#Объедененные фичи\n",
    "t = pd.read_csv('features_X_train__v3.csv')\n",
    "t = t[~t['user_id'].isin(t2['user_id'])]\n",
    "t = t[~t['user_id'].isin(x_test['user_id'])]\n",
    "X = t.drop('target', axis=1)\n",
    "y = t['target']\n",
    "\n",
    "\n",
    "#Определение категориальных\n",
    "cat_col = X.select_dtypes(include=['object']).columns.tolist()\n",
    "\n",
    "x_train, y_train = X.drop(cat_col, axis=1), y\n",
    "y.shape, X.shape"
   ]
  },
  {
   "cell_type": "code",
   "execution_count": 13,
   "id": "0ad031b8-ffaf-4e18-9593-a91cdc899294",
   "metadata": {},
   "outputs": [],
   "source": [
    "best_xgb_params_1 = {'n_estimators': 1023, \n",
    "                     'learning_rate': 0.0114825040369148, \n",
    "                     'gamma': 0.031623548362161816, \n",
    "                     'subsample': 0.9285796556489303, \n",
    "                     'colsample_bytree': 0.15689596063977834, \n",
    "                     'max_depth': 5, 'min_child_weight': 1, \n",
    "                     'reg_lambda': 0.4990288418087669, \n",
    "                     'reg_alpha': 0.005279274212785588}\n",
    "\n",
    "best_xgb_params_1['booster'] = 'gbtree'\n",
    "best_xgb_params_1['objective'] = 'binary:logistic'  # Change to binary:logistic for binary classification\n",
    "best_xgb_params_1[\"device\"] = \"cuda\"\n",
    "best_xgb_params_1[\"verbosity\"] = 0\n",
    "# best_xgb_params_1[\"enable_categorical\"] = True\n",
    "\n",
    "\n"
   ]
  },
  {
   "cell_type": "code",
   "execution_count": 15,
   "id": "fe4eb3eb-52a7-404e-9652-a67eb116541d",
   "metadata": {},
   "outputs": [
    {
     "name": "stderr",
     "output_type": "stream",
     "text": [
      "[I 2024-04-05 19:49:22,637] Using an existing study with name 'binary_classification_XGB_3.5' instead of creating a new one.\n"
     ]
    },
    {
     "ename": "KeyboardInterrupt",
     "evalue": "",
     "output_type": "error",
     "traceback": [
      "\u001b[0;31m---------------------------------------------------------------------------\u001b[0m",
      "\u001b[0;31mKeyboardInterrupt\u001b[0m                         Traceback (most recent call last)",
      "Cell \u001b[0;32mIn[15], line 42\u001b[0m\n\u001b[1;32m     37\u001b[0m study_name \u001b[38;5;241m=\u001b[39m \u001b[38;5;124m\"\u001b[39m\u001b[38;5;124mbinary_classification_XGB_3.5\u001b[39m\u001b[38;5;124m\"\u001b[39m\n\u001b[1;32m     38\u001b[0m study \u001b[38;5;241m=\u001b[39m optuna\u001b[38;5;241m.\u001b[39mcreate_study(storage\u001b[38;5;241m=\u001b[39msqlite_db, study_name\u001b[38;5;241m=\u001b[39mstudy_name, \n\u001b[1;32m     39\u001b[0m                             sampler\u001b[38;5;241m=\u001b[39mTPESampler(n_startup_trials\u001b[38;5;241m=\u001b[39m\u001b[38;5;241m50\u001b[39m, multivariate\u001b[38;5;241m=\u001b[39m\u001b[38;5;28;01mTrue\u001b[39;00m, seed\u001b[38;5;241m=\u001b[39m\u001b[38;5;241m142\u001b[39m),\n\u001b[1;32m     40\u001b[0m                             direction\u001b[38;5;241m=\u001b[39m\u001b[38;5;124m\"\u001b[39m\u001b[38;5;124mmaximize\u001b[39m\u001b[38;5;124m\"\u001b[39m, load_if_exists\u001b[38;5;241m=\u001b[39m\u001b[38;5;28;01mTrue\u001b[39;00m)\n\u001b[0;32m---> 42\u001b[0m \u001b[43mstudy\u001b[49m\u001b[38;5;241;43m.\u001b[39;49m\u001b[43moptimize\u001b[49m\u001b[43m(\u001b[49m\u001b[43mobjective\u001b[49m\u001b[43m,\u001b[49m\u001b[43m \u001b[49m\u001b[43mn_trials\u001b[49m\u001b[38;5;241;43m=\u001b[39;49m\u001b[38;5;241;43m5000\u001b[39;49m\u001b[43m)\u001b[49m\n\u001b[1;32m     43\u001b[0m \u001b[38;5;28mprint\u001b[39m(\u001b[38;5;124mf\u001b[39m\u001b[38;5;124m\"\u001b[39m\u001b[38;5;124mbest optimized roc_auc: \u001b[39m\u001b[38;5;132;01m{\u001b[39;00mstudy\u001b[38;5;241m.\u001b[39mbest_value\u001b[38;5;132;01m:\u001b[39;00m\u001b[38;5;124m0.5f\u001b[39m\u001b[38;5;132;01m}\u001b[39;00m\u001b[38;5;124m\"\u001b[39m)\n\u001b[1;32m     44\u001b[0m \u001b[38;5;28mprint\u001b[39m(\u001b[38;5;124mf\u001b[39m\u001b[38;5;124m\"\u001b[39m\u001b[38;5;124mbest hyperparameters: \u001b[39m\u001b[38;5;132;01m{\u001b[39;00mstudy\u001b[38;5;241m.\u001b[39mbest_params\u001b[38;5;132;01m}\u001b[39;00m\u001b[38;5;124m\"\u001b[39m)\n",
      "File \u001b[0;32m~/my_project_dir/my_project_env/lib/python3.10/site-packages/optuna/study/study.py:451\u001b[0m, in \u001b[0;36mStudy.optimize\u001b[0;34m(self, func, n_trials, timeout, n_jobs, catch, callbacks, gc_after_trial, show_progress_bar)\u001b[0m\n\u001b[1;32m    348\u001b[0m \u001b[38;5;28;01mdef\u001b[39;00m \u001b[38;5;21moptimize\u001b[39m(\n\u001b[1;32m    349\u001b[0m     \u001b[38;5;28mself\u001b[39m,\n\u001b[1;32m    350\u001b[0m     func: ObjectiveFuncType,\n\u001b[0;32m   (...)\u001b[0m\n\u001b[1;32m    357\u001b[0m     show_progress_bar: \u001b[38;5;28mbool\u001b[39m \u001b[38;5;241m=\u001b[39m \u001b[38;5;28;01mFalse\u001b[39;00m,\n\u001b[1;32m    358\u001b[0m ) \u001b[38;5;241m-\u001b[39m\u001b[38;5;241m>\u001b[39m \u001b[38;5;28;01mNone\u001b[39;00m:\n\u001b[1;32m    359\u001b[0m \u001b[38;5;250m    \u001b[39m\u001b[38;5;124;03m\"\"\"Optimize an objective function.\u001b[39;00m\n\u001b[1;32m    360\u001b[0m \n\u001b[1;32m    361\u001b[0m \u001b[38;5;124;03m    Optimization is done by choosing a suitable set of hyperparameter values from a given\u001b[39;00m\n\u001b[0;32m   (...)\u001b[0m\n\u001b[1;32m    449\u001b[0m \u001b[38;5;124;03m            If nested invocation of this method occurs.\u001b[39;00m\n\u001b[1;32m    450\u001b[0m \u001b[38;5;124;03m    \"\"\"\u001b[39;00m\n\u001b[0;32m--> 451\u001b[0m     \u001b[43m_optimize\u001b[49m\u001b[43m(\u001b[49m\n\u001b[1;32m    452\u001b[0m \u001b[43m        \u001b[49m\u001b[43mstudy\u001b[49m\u001b[38;5;241;43m=\u001b[39;49m\u001b[38;5;28;43mself\u001b[39;49m\u001b[43m,\u001b[49m\n\u001b[1;32m    453\u001b[0m \u001b[43m        \u001b[49m\u001b[43mfunc\u001b[49m\u001b[38;5;241;43m=\u001b[39;49m\u001b[43mfunc\u001b[49m\u001b[43m,\u001b[49m\n\u001b[1;32m    454\u001b[0m \u001b[43m        \u001b[49m\u001b[43mn_trials\u001b[49m\u001b[38;5;241;43m=\u001b[39;49m\u001b[43mn_trials\u001b[49m\u001b[43m,\u001b[49m\n\u001b[1;32m    455\u001b[0m \u001b[43m        \u001b[49m\u001b[43mtimeout\u001b[49m\u001b[38;5;241;43m=\u001b[39;49m\u001b[43mtimeout\u001b[49m\u001b[43m,\u001b[49m\n\u001b[1;32m    456\u001b[0m \u001b[43m        \u001b[49m\u001b[43mn_jobs\u001b[49m\u001b[38;5;241;43m=\u001b[39;49m\u001b[43mn_jobs\u001b[49m\u001b[43m,\u001b[49m\n\u001b[1;32m    457\u001b[0m \u001b[43m        \u001b[49m\u001b[43mcatch\u001b[49m\u001b[38;5;241;43m=\u001b[39;49m\u001b[38;5;28;43mtuple\u001b[39;49m\u001b[43m(\u001b[49m\u001b[43mcatch\u001b[49m\u001b[43m)\u001b[49m\u001b[43m \u001b[49m\u001b[38;5;28;43;01mif\u001b[39;49;00m\u001b[43m \u001b[49m\u001b[38;5;28;43misinstance\u001b[39;49m\u001b[43m(\u001b[49m\u001b[43mcatch\u001b[49m\u001b[43m,\u001b[49m\u001b[43m \u001b[49m\u001b[43mIterable\u001b[49m\u001b[43m)\u001b[49m\u001b[43m \u001b[49m\u001b[38;5;28;43;01melse\u001b[39;49;00m\u001b[43m \u001b[49m\u001b[43m(\u001b[49m\u001b[43mcatch\u001b[49m\u001b[43m,\u001b[49m\u001b[43m)\u001b[49m\u001b[43m,\u001b[49m\n\u001b[1;32m    458\u001b[0m \u001b[43m        \u001b[49m\u001b[43mcallbacks\u001b[49m\u001b[38;5;241;43m=\u001b[39;49m\u001b[43mcallbacks\u001b[49m\u001b[43m,\u001b[49m\n\u001b[1;32m    459\u001b[0m \u001b[43m        \u001b[49m\u001b[43mgc_after_trial\u001b[49m\u001b[38;5;241;43m=\u001b[39;49m\u001b[43mgc_after_trial\u001b[49m\u001b[43m,\u001b[49m\n\u001b[1;32m    460\u001b[0m \u001b[43m        \u001b[49m\u001b[43mshow_progress_bar\u001b[49m\u001b[38;5;241;43m=\u001b[39;49m\u001b[43mshow_progress_bar\u001b[49m\u001b[43m,\u001b[49m\n\u001b[1;32m    461\u001b[0m \u001b[43m    \u001b[49m\u001b[43m)\u001b[49m\n",
      "File \u001b[0;32m~/my_project_dir/my_project_env/lib/python3.10/site-packages/optuna/study/_optimize.py:66\u001b[0m, in \u001b[0;36m_optimize\u001b[0;34m(study, func, n_trials, timeout, n_jobs, catch, callbacks, gc_after_trial, show_progress_bar)\u001b[0m\n\u001b[1;32m     64\u001b[0m \u001b[38;5;28;01mtry\u001b[39;00m:\n\u001b[1;32m     65\u001b[0m     \u001b[38;5;28;01mif\u001b[39;00m n_jobs \u001b[38;5;241m==\u001b[39m \u001b[38;5;241m1\u001b[39m:\n\u001b[0;32m---> 66\u001b[0m         \u001b[43m_optimize_sequential\u001b[49m\u001b[43m(\u001b[49m\n\u001b[1;32m     67\u001b[0m \u001b[43m            \u001b[49m\u001b[43mstudy\u001b[49m\u001b[43m,\u001b[49m\n\u001b[1;32m     68\u001b[0m \u001b[43m            \u001b[49m\u001b[43mfunc\u001b[49m\u001b[43m,\u001b[49m\n\u001b[1;32m     69\u001b[0m \u001b[43m            \u001b[49m\u001b[43mn_trials\u001b[49m\u001b[43m,\u001b[49m\n\u001b[1;32m     70\u001b[0m \u001b[43m            \u001b[49m\u001b[43mtimeout\u001b[49m\u001b[43m,\u001b[49m\n\u001b[1;32m     71\u001b[0m \u001b[43m            \u001b[49m\u001b[43mcatch\u001b[49m\u001b[43m,\u001b[49m\n\u001b[1;32m     72\u001b[0m \u001b[43m            \u001b[49m\u001b[43mcallbacks\u001b[49m\u001b[43m,\u001b[49m\n\u001b[1;32m     73\u001b[0m \u001b[43m            \u001b[49m\u001b[43mgc_after_trial\u001b[49m\u001b[43m,\u001b[49m\n\u001b[1;32m     74\u001b[0m \u001b[43m            \u001b[49m\u001b[43mreseed_sampler_rng\u001b[49m\u001b[38;5;241;43m=\u001b[39;49m\u001b[38;5;28;43;01mFalse\u001b[39;49;00m\u001b[43m,\u001b[49m\n\u001b[1;32m     75\u001b[0m \u001b[43m            \u001b[49m\u001b[43mtime_start\u001b[49m\u001b[38;5;241;43m=\u001b[39;49m\u001b[38;5;28;43;01mNone\u001b[39;49;00m\u001b[43m,\u001b[49m\n\u001b[1;32m     76\u001b[0m \u001b[43m            \u001b[49m\u001b[43mprogress_bar\u001b[49m\u001b[38;5;241;43m=\u001b[39;49m\u001b[43mprogress_bar\u001b[49m\u001b[43m,\u001b[49m\n\u001b[1;32m     77\u001b[0m \u001b[43m        \u001b[49m\u001b[43m)\u001b[49m\n\u001b[1;32m     78\u001b[0m     \u001b[38;5;28;01melse\u001b[39;00m:\n\u001b[1;32m     79\u001b[0m         \u001b[38;5;28;01mif\u001b[39;00m n_jobs \u001b[38;5;241m==\u001b[39m \u001b[38;5;241m-\u001b[39m\u001b[38;5;241m1\u001b[39m:\n",
      "File \u001b[0;32m~/my_project_dir/my_project_env/lib/python3.10/site-packages/optuna/study/_optimize.py:163\u001b[0m, in \u001b[0;36m_optimize_sequential\u001b[0;34m(study, func, n_trials, timeout, catch, callbacks, gc_after_trial, reseed_sampler_rng, time_start, progress_bar)\u001b[0m\n\u001b[1;32m    160\u001b[0m         \u001b[38;5;28;01mbreak\u001b[39;00m\n\u001b[1;32m    162\u001b[0m \u001b[38;5;28;01mtry\u001b[39;00m:\n\u001b[0;32m--> 163\u001b[0m     frozen_trial \u001b[38;5;241m=\u001b[39m \u001b[43m_run_trial\u001b[49m\u001b[43m(\u001b[49m\u001b[43mstudy\u001b[49m\u001b[43m,\u001b[49m\u001b[43m \u001b[49m\u001b[43mfunc\u001b[49m\u001b[43m,\u001b[49m\u001b[43m \u001b[49m\u001b[43mcatch\u001b[49m\u001b[43m)\u001b[49m\n\u001b[1;32m    164\u001b[0m \u001b[38;5;28;01mfinally\u001b[39;00m:\n\u001b[1;32m    165\u001b[0m     \u001b[38;5;66;03m# The following line mitigates memory problems that can be occurred in some\u001b[39;00m\n\u001b[1;32m    166\u001b[0m     \u001b[38;5;66;03m# environments (e.g., services that use computing containers such as GitHub Actions).\u001b[39;00m\n\u001b[1;32m    167\u001b[0m     \u001b[38;5;66;03m# Please refer to the following PR for further details:\u001b[39;00m\n\u001b[1;32m    168\u001b[0m     \u001b[38;5;66;03m# https://github.com/optuna/optuna/pull/325.\u001b[39;00m\n\u001b[1;32m    169\u001b[0m     \u001b[38;5;28;01mif\u001b[39;00m gc_after_trial:\n",
      "File \u001b[0;32m~/my_project_dir/my_project_env/lib/python3.10/site-packages/optuna/study/_optimize.py:191\u001b[0m, in \u001b[0;36m_run_trial\u001b[0;34m(study, func, catch)\u001b[0m\n\u001b[1;32m    188\u001b[0m \u001b[38;5;28;01mif\u001b[39;00m is_heartbeat_enabled(study\u001b[38;5;241m.\u001b[39m_storage):\n\u001b[1;32m    189\u001b[0m     optuna\u001b[38;5;241m.\u001b[39mstorages\u001b[38;5;241m.\u001b[39mfail_stale_trials(study)\n\u001b[0;32m--> 191\u001b[0m trial \u001b[38;5;241m=\u001b[39m \u001b[43mstudy\u001b[49m\u001b[38;5;241;43m.\u001b[39;49m\u001b[43mask\u001b[49m\u001b[43m(\u001b[49m\u001b[43m)\u001b[49m\n\u001b[1;32m    193\u001b[0m state: Optional[TrialState] \u001b[38;5;241m=\u001b[39m \u001b[38;5;28;01mNone\u001b[39;00m\n\u001b[1;32m    194\u001b[0m value_or_values: Optional[Union[\u001b[38;5;28mfloat\u001b[39m, Sequence[\u001b[38;5;28mfloat\u001b[39m]]] \u001b[38;5;241m=\u001b[39m \u001b[38;5;28;01mNone\u001b[39;00m\n",
      "File \u001b[0;32m~/my_project_dir/my_project_env/lib/python3.10/site-packages/optuna/study/study.py:541\u001b[0m, in \u001b[0;36mStudy.ask\u001b[0;34m(self, fixed_distributions)\u001b[0m\n\u001b[1;32m    538\u001b[0m \u001b[38;5;66;03m# Sync storage once every trial.\u001b[39;00m\n\u001b[1;32m    539\u001b[0m \u001b[38;5;28mself\u001b[39m\u001b[38;5;241m.\u001b[39m_thread_local\u001b[38;5;241m.\u001b[39mcached_all_trials \u001b[38;5;241m=\u001b[39m \u001b[38;5;28;01mNone\u001b[39;00m\n\u001b[0;32m--> 541\u001b[0m trial_id \u001b[38;5;241m=\u001b[39m \u001b[38;5;28;43mself\u001b[39;49m\u001b[38;5;241;43m.\u001b[39;49m\u001b[43m_pop_waiting_trial_id\u001b[49m\u001b[43m(\u001b[49m\u001b[43m)\u001b[49m\n\u001b[1;32m    542\u001b[0m \u001b[38;5;28;01mif\u001b[39;00m trial_id \u001b[38;5;129;01mis\u001b[39;00m \u001b[38;5;28;01mNone\u001b[39;00m:\n\u001b[1;32m    543\u001b[0m     trial_id \u001b[38;5;241m=\u001b[39m \u001b[38;5;28mself\u001b[39m\u001b[38;5;241m.\u001b[39m_storage\u001b[38;5;241m.\u001b[39mcreate_new_trial(\u001b[38;5;28mself\u001b[39m\u001b[38;5;241m.\u001b[39m_study_id)\n",
      "File \u001b[0;32m~/my_project_dir/my_project_env/lib/python3.10/site-packages/optuna/study/study.py:1034\u001b[0m, in \u001b[0;36mStudy._pop_waiting_trial_id\u001b[0;34m(self)\u001b[0m\n\u001b[1;32m   1033\u001b[0m \u001b[38;5;28;01mdef\u001b[39;00m \u001b[38;5;21m_pop_waiting_trial_id\u001b[39m(\u001b[38;5;28mself\u001b[39m) \u001b[38;5;241m-\u001b[39m\u001b[38;5;241m>\u001b[39m \u001b[38;5;28mint\u001b[39m \u001b[38;5;241m|\u001b[39m \u001b[38;5;28;01mNone\u001b[39;00m:\n\u001b[0;32m-> 1034\u001b[0m     \u001b[38;5;28;01mfor\u001b[39;00m trial \u001b[38;5;129;01min\u001b[39;00m \u001b[38;5;28;43mself\u001b[39;49m\u001b[38;5;241;43m.\u001b[39;49m\u001b[43m_storage\u001b[49m\u001b[38;5;241;43m.\u001b[39;49m\u001b[43mget_all_trials\u001b[49m\u001b[43m(\u001b[49m\n\u001b[1;32m   1035\u001b[0m \u001b[43m        \u001b[49m\u001b[38;5;28;43mself\u001b[39;49m\u001b[38;5;241;43m.\u001b[39;49m\u001b[43m_study_id\u001b[49m\u001b[43m,\u001b[49m\u001b[43m \u001b[49m\u001b[43mdeepcopy\u001b[49m\u001b[38;5;241;43m=\u001b[39;49m\u001b[38;5;28;43;01mFalse\u001b[39;49;00m\u001b[43m,\u001b[49m\u001b[43m \u001b[49m\u001b[43mstates\u001b[49m\u001b[38;5;241;43m=\u001b[39;49m\u001b[43m(\u001b[49m\u001b[43mTrialState\u001b[49m\u001b[38;5;241;43m.\u001b[39;49m\u001b[43mWAITING\u001b[49m\u001b[43m,\u001b[49m\u001b[43m)\u001b[49m\n\u001b[1;32m   1036\u001b[0m \u001b[43m    \u001b[49m\u001b[43m)\u001b[49m:\n\u001b[1;32m   1037\u001b[0m         \u001b[38;5;28;01mif\u001b[39;00m \u001b[38;5;129;01mnot\u001b[39;00m \u001b[38;5;28mself\u001b[39m\u001b[38;5;241m.\u001b[39m_storage\u001b[38;5;241m.\u001b[39mset_trial_state_values(trial\u001b[38;5;241m.\u001b[39m_trial_id, state\u001b[38;5;241m=\u001b[39mTrialState\u001b[38;5;241m.\u001b[39mRUNNING):\n\u001b[1;32m   1038\u001b[0m             \u001b[38;5;28;01mcontinue\u001b[39;00m\n",
      "File \u001b[0;32m~/my_project_dir/my_project_env/lib/python3.10/site-packages/optuna/storages/_cached_storage.py:221\u001b[0m, in \u001b[0;36m_CachedStorage.get_all_trials\u001b[0;34m(self, study_id, deepcopy, states)\u001b[0m\n\u001b[1;32m    215\u001b[0m \u001b[38;5;28;01mdef\u001b[39;00m \u001b[38;5;21mget_all_trials\u001b[39m(\n\u001b[1;32m    216\u001b[0m     \u001b[38;5;28mself\u001b[39m,\n\u001b[1;32m    217\u001b[0m     study_id: \u001b[38;5;28mint\u001b[39m,\n\u001b[1;32m    218\u001b[0m     deepcopy: \u001b[38;5;28mbool\u001b[39m \u001b[38;5;241m=\u001b[39m \u001b[38;5;28;01mTrue\u001b[39;00m,\n\u001b[1;32m    219\u001b[0m     states: Optional[Container[TrialState]] \u001b[38;5;241m=\u001b[39m \u001b[38;5;28;01mNone\u001b[39;00m,\n\u001b[1;32m    220\u001b[0m ) \u001b[38;5;241m-\u001b[39m\u001b[38;5;241m>\u001b[39m List[FrozenTrial]:\n\u001b[0;32m--> 221\u001b[0m     \u001b[38;5;28;43mself\u001b[39;49m\u001b[38;5;241;43m.\u001b[39;49m\u001b[43m_read_trials_from_remote_storage\u001b[49m\u001b[43m(\u001b[49m\u001b[43mstudy_id\u001b[49m\u001b[43m)\u001b[49m\n\u001b[1;32m    223\u001b[0m     \u001b[38;5;28;01mwith\u001b[39;00m \u001b[38;5;28mself\u001b[39m\u001b[38;5;241m.\u001b[39m_lock:\n\u001b[1;32m    224\u001b[0m         study \u001b[38;5;241m=\u001b[39m \u001b[38;5;28mself\u001b[39m\u001b[38;5;241m.\u001b[39m_studies[study_id]\n",
      "File \u001b[0;32m~/my_project_dir/my_project_env/lib/python3.10/site-packages/optuna/storages/_cached_storage.py:242\u001b[0m, in \u001b[0;36m_CachedStorage._read_trials_from_remote_storage\u001b[0;34m(self, study_id)\u001b[0m\n\u001b[1;32m    240\u001b[0m     \u001b[38;5;28mself\u001b[39m\u001b[38;5;241m.\u001b[39m_studies[study_id] \u001b[38;5;241m=\u001b[39m _StudyInfo()\n\u001b[1;32m    241\u001b[0m study \u001b[38;5;241m=\u001b[39m \u001b[38;5;28mself\u001b[39m\u001b[38;5;241m.\u001b[39m_studies[study_id]\n\u001b[0;32m--> 242\u001b[0m trials \u001b[38;5;241m=\u001b[39m \u001b[38;5;28;43mself\u001b[39;49m\u001b[38;5;241;43m.\u001b[39;49m\u001b[43m_backend\u001b[49m\u001b[38;5;241;43m.\u001b[39;49m\u001b[43m_get_trials\u001b[49m\u001b[43m(\u001b[49m\n\u001b[1;32m    243\u001b[0m \u001b[43m    \u001b[49m\u001b[43mstudy_id\u001b[49m\u001b[43m,\u001b[49m\u001b[43m \u001b[49m\u001b[43mstates\u001b[49m\u001b[38;5;241;43m=\u001b[39;49m\u001b[38;5;28;43;01mNone\u001b[39;49;00m\u001b[43m,\u001b[49m\u001b[43m \u001b[49m\u001b[43mexcluded_trial_ids\u001b[49m\u001b[38;5;241;43m=\u001b[39;49m\u001b[43mstudy\u001b[49m\u001b[38;5;241;43m.\u001b[39;49m\u001b[43mfinished_trial_ids\u001b[49m\n\u001b[1;32m    244\u001b[0m \u001b[43m\u001b[49m\u001b[43m)\u001b[49m\n\u001b[1;32m    245\u001b[0m \u001b[38;5;28;01mif\u001b[39;00m trials:\n\u001b[1;32m    246\u001b[0m     \u001b[38;5;28mself\u001b[39m\u001b[38;5;241m.\u001b[39m_add_trials_to_cache(study_id, trials)\n",
      "File \u001b[0;32m~/my_project_dir/my_project_env/lib/python3.10/site-packages/optuna/storages/_rdb/storage.py:857\u001b[0m, in \u001b[0;36mRDBStorage._get_trials\u001b[0;34m(self, study_id, states, excluded_trial_ids)\u001b[0m\n\u001b[1;32m    844\u001b[0m         trial_models \u001b[38;5;241m=\u001b[39m (\n\u001b[1;32m    845\u001b[0m             session\u001b[38;5;241m.\u001b[39mquery(models\u001b[38;5;241m.\u001b[39mTrialModel)\n\u001b[1;32m    846\u001b[0m             \u001b[38;5;241m.\u001b[39moptions(sqlalchemy_orm\u001b[38;5;241m.\u001b[39mselectinload(models\u001b[38;5;241m.\u001b[39mTrialModel\u001b[38;5;241m.\u001b[39mparams))\n\u001b[0;32m   (...)\u001b[0m\n\u001b[1;32m    853\u001b[0m             \u001b[38;5;241m.\u001b[39mall()\n\u001b[1;32m    854\u001b[0m         )\n\u001b[1;32m    855\u001b[0m         trial_models \u001b[38;5;241m=\u001b[39m [t \u001b[38;5;28;01mfor\u001b[39;00m t \u001b[38;5;129;01min\u001b[39;00m trial_models \u001b[38;5;28;01mif\u001b[39;00m t\u001b[38;5;241m.\u001b[39mtrial_id \u001b[38;5;129;01min\u001b[39;00m trial_ids]\n\u001b[0;32m--> 857\u001b[0m     trials \u001b[38;5;241m=\u001b[39m [\u001b[38;5;28mself\u001b[39m\u001b[38;5;241m.\u001b[39m_build_frozen_trial_from_trial_model(trial) \u001b[38;5;28;01mfor\u001b[39;00m trial \u001b[38;5;129;01min\u001b[39;00m trial_models]\n\u001b[1;32m    859\u001b[0m \u001b[38;5;28;01mreturn\u001b[39;00m trials\n",
      "File \u001b[0;32m~/my_project_dir/my_project_env/lib/python3.10/site-packages/optuna/storages/_rdb/storage.py:857\u001b[0m, in \u001b[0;36m<listcomp>\u001b[0;34m(.0)\u001b[0m\n\u001b[1;32m    844\u001b[0m         trial_models \u001b[38;5;241m=\u001b[39m (\n\u001b[1;32m    845\u001b[0m             session\u001b[38;5;241m.\u001b[39mquery(models\u001b[38;5;241m.\u001b[39mTrialModel)\n\u001b[1;32m    846\u001b[0m             \u001b[38;5;241m.\u001b[39moptions(sqlalchemy_orm\u001b[38;5;241m.\u001b[39mselectinload(models\u001b[38;5;241m.\u001b[39mTrialModel\u001b[38;5;241m.\u001b[39mparams))\n\u001b[0;32m   (...)\u001b[0m\n\u001b[1;32m    853\u001b[0m             \u001b[38;5;241m.\u001b[39mall()\n\u001b[1;32m    854\u001b[0m         )\n\u001b[1;32m    855\u001b[0m         trial_models \u001b[38;5;241m=\u001b[39m [t \u001b[38;5;28;01mfor\u001b[39;00m t \u001b[38;5;129;01min\u001b[39;00m trial_models \u001b[38;5;28;01mif\u001b[39;00m t\u001b[38;5;241m.\u001b[39mtrial_id \u001b[38;5;129;01min\u001b[39;00m trial_ids]\n\u001b[0;32m--> 857\u001b[0m     trials \u001b[38;5;241m=\u001b[39m [\u001b[38;5;28;43mself\u001b[39;49m\u001b[38;5;241;43m.\u001b[39;49m\u001b[43m_build_frozen_trial_from_trial_model\u001b[49m\u001b[43m(\u001b[49m\u001b[43mtrial\u001b[49m\u001b[43m)\u001b[49m \u001b[38;5;28;01mfor\u001b[39;00m trial \u001b[38;5;129;01min\u001b[39;00m trial_models]\n\u001b[1;32m    859\u001b[0m \u001b[38;5;28;01mreturn\u001b[39;00m trials\n",
      "File \u001b[0;32m~/my_project_dir/my_project_env/lib/python3.10/site-packages/optuna/storages/_rdb/storage.py:887\u001b[0m, in \u001b[0;36mRDBStorage._build_frozen_trial_from_trial_model\u001b[0;34m(self, trial)\u001b[0m\n\u001b[1;32m    870\u001b[0m     values \u001b[38;5;241m=\u001b[39m \u001b[38;5;28;01mNone\u001b[39;00m\n\u001b[1;32m    872\u001b[0m params \u001b[38;5;241m=\u001b[39m \u001b[38;5;28msorted\u001b[39m(trial\u001b[38;5;241m.\u001b[39mparams, key\u001b[38;5;241m=\u001b[39m\u001b[38;5;28;01mlambda\u001b[39;00m p: p\u001b[38;5;241m.\u001b[39mparam_id)\n\u001b[1;32m    874\u001b[0m \u001b[38;5;28;01mreturn\u001b[39;00m FrozenTrial(\n\u001b[1;32m    875\u001b[0m     number\u001b[38;5;241m=\u001b[39mtrial\u001b[38;5;241m.\u001b[39mnumber,\n\u001b[1;32m    876\u001b[0m     state\u001b[38;5;241m=\u001b[39mtrial\u001b[38;5;241m.\u001b[39mstate,\n\u001b[1;32m    877\u001b[0m     value\u001b[38;5;241m=\u001b[39m\u001b[38;5;28;01mNone\u001b[39;00m,\n\u001b[1;32m    878\u001b[0m     values\u001b[38;5;241m=\u001b[39mvalues,\n\u001b[1;32m    879\u001b[0m     datetime_start\u001b[38;5;241m=\u001b[39mtrial\u001b[38;5;241m.\u001b[39mdatetime_start,\n\u001b[1;32m    880\u001b[0m     datetime_complete\u001b[38;5;241m=\u001b[39mtrial\u001b[38;5;241m.\u001b[39mdatetime_complete,\n\u001b[1;32m    881\u001b[0m     params\u001b[38;5;241m=\u001b[39m{\n\u001b[1;32m    882\u001b[0m         p\u001b[38;5;241m.\u001b[39mparam_name: distributions\u001b[38;5;241m.\u001b[39mjson_to_distribution(\n\u001b[1;32m    883\u001b[0m             p\u001b[38;5;241m.\u001b[39mdistribution_json\n\u001b[1;32m    884\u001b[0m         )\u001b[38;5;241m.\u001b[39mto_external_repr(p\u001b[38;5;241m.\u001b[39mparam_value)\n\u001b[1;32m    885\u001b[0m         \u001b[38;5;28;01mfor\u001b[39;00m p \u001b[38;5;129;01min\u001b[39;00m params\n\u001b[1;32m    886\u001b[0m     },\n\u001b[0;32m--> 887\u001b[0m     distributions\u001b[38;5;241m=\u001b[39m{\n\u001b[1;32m    888\u001b[0m         p\u001b[38;5;241m.\u001b[39mparam_name: distributions\u001b[38;5;241m.\u001b[39mjson_to_distribution(p\u001b[38;5;241m.\u001b[39mdistribution_json)\n\u001b[1;32m    889\u001b[0m         \u001b[38;5;28;01mfor\u001b[39;00m p \u001b[38;5;129;01min\u001b[39;00m params\n\u001b[1;32m    890\u001b[0m     },\n\u001b[1;32m    891\u001b[0m     user_attrs\u001b[38;5;241m=\u001b[39m{attr\u001b[38;5;241m.\u001b[39mkey: json\u001b[38;5;241m.\u001b[39mloads(attr\u001b[38;5;241m.\u001b[39mvalue_json) \u001b[38;5;28;01mfor\u001b[39;00m attr \u001b[38;5;129;01min\u001b[39;00m trial\u001b[38;5;241m.\u001b[39muser_attributes},\n\u001b[1;32m    892\u001b[0m     system_attrs\u001b[38;5;241m=\u001b[39m{\n\u001b[1;32m    893\u001b[0m         attr\u001b[38;5;241m.\u001b[39mkey: json\u001b[38;5;241m.\u001b[39mloads(attr\u001b[38;5;241m.\u001b[39mvalue_json) \u001b[38;5;28;01mfor\u001b[39;00m attr \u001b[38;5;129;01min\u001b[39;00m trial\u001b[38;5;241m.\u001b[39msystem_attributes\n\u001b[1;32m    894\u001b[0m     },\n\u001b[1;32m    895\u001b[0m     intermediate_values\u001b[38;5;241m=\u001b[39m{\n\u001b[1;32m    896\u001b[0m         v\u001b[38;5;241m.\u001b[39mstep: models\u001b[38;5;241m.\u001b[39mTrialIntermediateValueModel\u001b[38;5;241m.\u001b[39mstored_repr_to_intermediate_value(\n\u001b[1;32m    897\u001b[0m             v\u001b[38;5;241m.\u001b[39mintermediate_value, v\u001b[38;5;241m.\u001b[39mintermediate_value_type\n\u001b[1;32m    898\u001b[0m         )\n\u001b[1;32m    899\u001b[0m         \u001b[38;5;28;01mfor\u001b[39;00m v \u001b[38;5;129;01min\u001b[39;00m trial\u001b[38;5;241m.\u001b[39mintermediate_values\n\u001b[1;32m    900\u001b[0m     },\n\u001b[1;32m    901\u001b[0m     trial_id\u001b[38;5;241m=\u001b[39mtrial\u001b[38;5;241m.\u001b[39mtrial_id,\n\u001b[1;32m    902\u001b[0m )\n",
      "File \u001b[0;32m~/my_project_dir/my_project_env/lib/python3.10/site-packages/optuna/storages/_rdb/storage.py:888\u001b[0m, in \u001b[0;36m<dictcomp>\u001b[0;34m(.0)\u001b[0m\n\u001b[1;32m    870\u001b[0m     values \u001b[38;5;241m=\u001b[39m \u001b[38;5;28;01mNone\u001b[39;00m\n\u001b[1;32m    872\u001b[0m params \u001b[38;5;241m=\u001b[39m \u001b[38;5;28msorted\u001b[39m(trial\u001b[38;5;241m.\u001b[39mparams, key\u001b[38;5;241m=\u001b[39m\u001b[38;5;28;01mlambda\u001b[39;00m p: p\u001b[38;5;241m.\u001b[39mparam_id)\n\u001b[1;32m    874\u001b[0m \u001b[38;5;28;01mreturn\u001b[39;00m FrozenTrial(\n\u001b[1;32m    875\u001b[0m     number\u001b[38;5;241m=\u001b[39mtrial\u001b[38;5;241m.\u001b[39mnumber,\n\u001b[1;32m    876\u001b[0m     state\u001b[38;5;241m=\u001b[39mtrial\u001b[38;5;241m.\u001b[39mstate,\n\u001b[1;32m    877\u001b[0m     value\u001b[38;5;241m=\u001b[39m\u001b[38;5;28;01mNone\u001b[39;00m,\n\u001b[1;32m    878\u001b[0m     values\u001b[38;5;241m=\u001b[39mvalues,\n\u001b[1;32m    879\u001b[0m     datetime_start\u001b[38;5;241m=\u001b[39mtrial\u001b[38;5;241m.\u001b[39mdatetime_start,\n\u001b[1;32m    880\u001b[0m     datetime_complete\u001b[38;5;241m=\u001b[39mtrial\u001b[38;5;241m.\u001b[39mdatetime_complete,\n\u001b[1;32m    881\u001b[0m     params\u001b[38;5;241m=\u001b[39m{\n\u001b[1;32m    882\u001b[0m         p\u001b[38;5;241m.\u001b[39mparam_name: distributions\u001b[38;5;241m.\u001b[39mjson_to_distribution(\n\u001b[1;32m    883\u001b[0m             p\u001b[38;5;241m.\u001b[39mdistribution_json\n\u001b[1;32m    884\u001b[0m         )\u001b[38;5;241m.\u001b[39mto_external_repr(p\u001b[38;5;241m.\u001b[39mparam_value)\n\u001b[1;32m    885\u001b[0m         \u001b[38;5;28;01mfor\u001b[39;00m p \u001b[38;5;129;01min\u001b[39;00m params\n\u001b[1;32m    886\u001b[0m     },\n\u001b[1;32m    887\u001b[0m     distributions\u001b[38;5;241m=\u001b[39m{\n\u001b[0;32m--> 888\u001b[0m         p\u001b[38;5;241m.\u001b[39mparam_name: \u001b[43mdistributions\u001b[49m\u001b[38;5;241;43m.\u001b[39;49m\u001b[43mjson_to_distribution\u001b[49m\u001b[43m(\u001b[49m\u001b[43mp\u001b[49m\u001b[38;5;241;43m.\u001b[39;49m\u001b[43mdistribution_json\u001b[49m\u001b[43m)\u001b[49m\n\u001b[1;32m    889\u001b[0m         \u001b[38;5;28;01mfor\u001b[39;00m p \u001b[38;5;129;01min\u001b[39;00m params\n\u001b[1;32m    890\u001b[0m     },\n\u001b[1;32m    891\u001b[0m     user_attrs\u001b[38;5;241m=\u001b[39m{attr\u001b[38;5;241m.\u001b[39mkey: json\u001b[38;5;241m.\u001b[39mloads(attr\u001b[38;5;241m.\u001b[39mvalue_json) \u001b[38;5;28;01mfor\u001b[39;00m attr \u001b[38;5;129;01min\u001b[39;00m trial\u001b[38;5;241m.\u001b[39muser_attributes},\n\u001b[1;32m    892\u001b[0m     system_attrs\u001b[38;5;241m=\u001b[39m{\n\u001b[1;32m    893\u001b[0m         attr\u001b[38;5;241m.\u001b[39mkey: json\u001b[38;5;241m.\u001b[39mloads(attr\u001b[38;5;241m.\u001b[39mvalue_json) \u001b[38;5;28;01mfor\u001b[39;00m attr \u001b[38;5;129;01min\u001b[39;00m trial\u001b[38;5;241m.\u001b[39msystem_attributes\n\u001b[1;32m    894\u001b[0m     },\n\u001b[1;32m    895\u001b[0m     intermediate_values\u001b[38;5;241m=\u001b[39m{\n\u001b[1;32m    896\u001b[0m         v\u001b[38;5;241m.\u001b[39mstep: models\u001b[38;5;241m.\u001b[39mTrialIntermediateValueModel\u001b[38;5;241m.\u001b[39mstored_repr_to_intermediate_value(\n\u001b[1;32m    897\u001b[0m             v\u001b[38;5;241m.\u001b[39mintermediate_value, v\u001b[38;5;241m.\u001b[39mintermediate_value_type\n\u001b[1;32m    898\u001b[0m         )\n\u001b[1;32m    899\u001b[0m         \u001b[38;5;28;01mfor\u001b[39;00m v \u001b[38;5;129;01min\u001b[39;00m trial\u001b[38;5;241m.\u001b[39mintermediate_values\n\u001b[1;32m    900\u001b[0m     },\n\u001b[1;32m    901\u001b[0m     trial_id\u001b[38;5;241m=\u001b[39mtrial\u001b[38;5;241m.\u001b[39mtrial_id,\n\u001b[1;32m    902\u001b[0m )\n",
      "File \u001b[0;32m~/my_project_dir/my_project_env/lib/python3.10/site-packages/optuna/distributions.py:598\u001b[0m, in \u001b[0;36mjson_to_distribution\u001b[0;34m(json_str)\u001b[0m\n\u001b[1;32m    596\u001b[0m     \u001b[38;5;28;01mfor\u001b[39;00m \u001b[38;5;28mcls\u001b[39m \u001b[38;5;129;01min\u001b[39;00m DISTRIBUTION_CLASSES:\n\u001b[1;32m    597\u001b[0m         \u001b[38;5;28;01mif\u001b[39;00m json_dict[\u001b[38;5;124m\"\u001b[39m\u001b[38;5;124mname\u001b[39m\u001b[38;5;124m\"\u001b[39m] \u001b[38;5;241m==\u001b[39m \u001b[38;5;28mcls\u001b[39m\u001b[38;5;241m.\u001b[39m\u001b[38;5;18m__name__\u001b[39m:\n\u001b[0;32m--> 598\u001b[0m             \u001b[38;5;28;01mreturn\u001b[39;00m \u001b[38;5;28;43mcls\u001b[39;49m\u001b[43m(\u001b[49m\u001b[38;5;241;43m*\u001b[39;49m\u001b[38;5;241;43m*\u001b[39;49m\u001b[43mjson_dict\u001b[49m\u001b[43m[\u001b[49m\u001b[38;5;124;43m\"\u001b[39;49m\u001b[38;5;124;43mattributes\u001b[39;49m\u001b[38;5;124;43m\"\u001b[39;49m\u001b[43m]\u001b[49m\u001b[43m)\u001b[49m\n\u001b[1;32m    600\u001b[0m     \u001b[38;5;28;01mraise\u001b[39;00m \u001b[38;5;167;01mValueError\u001b[39;00m(\u001b[38;5;124m\"\u001b[39m\u001b[38;5;124mUnknown distribution class: \u001b[39m\u001b[38;5;132;01m{}\u001b[39;00m\u001b[38;5;124m\"\u001b[39m\u001b[38;5;241m.\u001b[39mformat(json_dict[\u001b[38;5;124m\"\u001b[39m\u001b[38;5;124mname\u001b[39m\u001b[38;5;124m\"\u001b[39m]))\n\u001b[1;32m    602\u001b[0m \u001b[38;5;28;01melse\u001b[39;00m:\n\u001b[1;32m    603\u001b[0m     \u001b[38;5;66;03m# Deserialize a distribution from an abbreviated format.\u001b[39;00m\n",
      "File \u001b[0;32m~/my_project_dir/my_project_env/lib/python3.10/site-packages/optuna/distributions.py:159\u001b[0m, in \u001b[0;36mFloatDistribution.__init__\u001b[0;34m(self, low, high, log, step)\u001b[0m\n\u001b[1;32m    154\u001b[0m     \u001b[38;5;28;01mraise\u001b[39;00m \u001b[38;5;167;01mValueError\u001b[39;00m(\n\u001b[1;32m    155\u001b[0m         \u001b[38;5;124m\"\u001b[39m\u001b[38;5;124mThe `step` value must be non-zero positive value, \u001b[39m\u001b[38;5;124m\"\u001b[39m \u001b[38;5;124m\"\u001b[39m\u001b[38;5;124mbut step=\u001b[39m\u001b[38;5;132;01m{}\u001b[39;00m\u001b[38;5;124m.\u001b[39m\u001b[38;5;124m\"\u001b[39m\u001b[38;5;241m.\u001b[39mformat(step)\n\u001b[1;32m    156\u001b[0m     )\n\u001b[1;32m    158\u001b[0m \u001b[38;5;28mself\u001b[39m\u001b[38;5;241m.\u001b[39mstep \u001b[38;5;241m=\u001b[39m \u001b[38;5;28;01mNone\u001b[39;00m\n\u001b[0;32m--> 159\u001b[0m \u001b[38;5;28;01mif\u001b[39;00m step \u001b[38;5;129;01mis\u001b[39;00m \u001b[38;5;129;01mnot\u001b[39;00m \u001b[38;5;28;01mNone\u001b[39;00m:\n\u001b[1;32m    160\u001b[0m     high \u001b[38;5;241m=\u001b[39m _adjust_discrete_uniform_high(low, high, step)\n\u001b[1;32m    161\u001b[0m     \u001b[38;5;28mself\u001b[39m\u001b[38;5;241m.\u001b[39mstep \u001b[38;5;241m=\u001b[39m \u001b[38;5;28mfloat\u001b[39m(step)\n",
      "\u001b[0;31mKeyboardInterrupt\u001b[0m: "
     ]
    }
   ],
   "source": [
    "def objective(trial):\n",
    "    params = {\n",
    "        'n_estimators': trial.suggest_int('n_estimators', 600, 5000),\n",
    "        'learning_rate': trial.suggest_float('learning_rate', 0.01, 0.1, log=True),\n",
    "        'gamma' : trial.suggest_float('gamma', 1e-9, 0.5),\n",
    "        'subsample': trial.suggest_float('subsample', 0.1, 1.0),\n",
    "        'colsample_bytree': trial.suggest_float('colsample_bytree', 0.1, 1.0),\n",
    "        'max_depth': trial.suggest_int('max_depth', 1, 30),\n",
    "        'min_child_weight': trial.suggest_int('min_child_weight', 1, 100),\n",
    "        'reg_lambda': trial.suggest_float('reg_lambda', 1e-9, 100.0, log=True),\n",
    "        'reg_alpha': trial.suggest_float('reg_alpha', 1e-9, 100.0, log=True),\n",
    "    }\n",
    "    \n",
    "    params['booster'] = 'gbtree'\n",
    "    params['grow_policy'] = 'depthwise'\n",
    "    params['objective'] = 'binary:logistic'  # Change to binary:logistic for binary classification\n",
    "    params[\"tree_method\"] = \"hist\"\n",
    "    params[\"device\"] = \"cuda\"\n",
    "    params[\"verbosity\"] = 0\n",
    "    \n",
    "    xgb = XGBClassifier(**params)\n",
    "    # cv_scores = cross_validate(estimator=xgb, \n",
    "    #                            X=x_train.values[:, boruta_selector.support_], \n",
    "    #                            y=y_train,  # Assuming target_binary is your binary target variable\n",
    "    #                            scoring='roc_auc',\n",
    "    #                            cv=5,\n",
    "    #                            )\n",
    "\n",
    "    # cv_evaluation = np.mean(np.abs(cv_scores['test_score']))\n",
    "    # return cv_evaluation\n",
    "\n",
    "    xgb.fit(x_train, y_train)\n",
    "    \n",
    "    return concordance_index(y_test, xgb.predict_proba(x_test)[:,1])\n",
    "\n",
    "sqlite_db = \"sqlite:///xgb_sqlite.db\"\n",
    "study_name = \"binary_classification_XGB_3.5\"\n",
    "study = optuna.create_study(storage=sqlite_db, study_name=study_name, \n",
    "                            sampler=TPESampler(n_startup_trials=50, multivariate=True, seed=142),\n",
    "                            direction=\"maximize\", load_if_exists=True)\n",
    "\n",
    "study.optimize(objective, n_trials=5000)\n",
    "print(f\"best optimized roc_auc: {study.best_value:0.5f}\")\n",
    "print(f\"best hyperparameters: {study.best_params}\")\n",
    "\n",
    "best_cls_params = study.best_params\n",
    "best_cls_params['objective'] = 'binary:logistic'\n",
    "params['grow_policy'] = 'depthwise'\n",
    "best_cls_params[\"device\"] = \"cuda\"\n",
    "params[\"tree_method\"] = \"hist\"\n",
    "best_cls_params[\"verbosity\"] = 0"
   ]
  },
  {
   "cell_type": "code",
   "execution_count": 16,
   "id": "71ff0a24-ab17-40ab-a3d1-e6f7b15a4ae7",
   "metadata": {},
   "outputs": [
    {
     "name": "stdout",
     "output_type": "stream",
     "text": [
      "best optimized roc_auc: 0.77697\n",
      "best hyperparameters: {'n_estimators': 853, 'learning_rate': 0.013661226489861992, 'gamma': 0.11696969571136726, 'subsample': 0.8049967773710163, 'colsample_bytree': 0.3339055630223215, 'max_depth': 7, 'min_child_weight': 20, 'reg_lambda': 3.889298224761356e-08, 'reg_alpha': 3.2391819292617063e-06}\n"
     ]
    },
    {
     "data": {
      "text/plain": [
       "{'n_estimators': 853,\n",
       " 'learning_rate': 0.013661226489861992,\n",
       " 'gamma': 0.11696969571136726,\n",
       " 'subsample': 0.8049967773710163,\n",
       " 'colsample_bytree': 0.3339055630223215,\n",
       " 'max_depth': 7,\n",
       " 'min_child_weight': 20,\n",
       " 'reg_lambda': 3.889298224761356e-08,\n",
       " 'reg_alpha': 3.2391819292617063e-06}"
      ]
     },
     "execution_count": 16,
     "metadata": {},
     "output_type": "execute_result"
    }
   ],
   "source": [
    "print(f\"best optimized roc_auc: {study.best_value:0.5f}\")\n",
    "print(f\"best hyperparameters: {study.best_params}\")\n",
    "study.best_params"
   ]
  },
  {
   "cell_type": "code",
   "execution_count": null,
   "id": "aaf52d69-a051-4d59-8c66-447a73d5f9fa",
   "metadata": {},
   "outputs": [],
   "source": [
    "best_xgb_params_1 = study.best_params\n",
    "best_xgb_params_1 ['booster'] = 'gbtree'\n",
    "best_xgb_params_1 ['grow_policy'] = 'depthwise'\n",
    "best_xgb_params_1 ['objective'] = 'binary:logistic'  # Change to binary:logistic for binary classification\n",
    "best_xgb_params_1 [\"tree_method\"] = \"hist\"\n",
    "best_xgb_params_1 [\"device\"] = \"cuda\"\n",
    "best_xgb_params_1 [\"verbosity\"] = 0\n",
    "    "
   ]
  },
  {
   "cell_type": "code",
   "execution_count": null,
   "id": "239f443c-54c0-4107-9af2-f9a481bc02d3",
   "metadata": {},
   "outputs": [],
   "source": [
    "model_xgb = XGBClassifier(**best_xgb_params_1)\n",
    "model_xgb.fit(x_train,y_train)"
   ]
  },
  {
   "cell_type": "code",
   "execution_count": null,
   "id": "ab780e05-3275-41d6-9ed8-edd74cb5c828",
   "metadata": {},
   "outputs": [],
   "source": [
    "print(f'Concordance Index: {concordance_index(y_test, model_xgb.predict_proba(x_test)[:,1])}')"
   ]
  },
  {
   "cell_type": "code",
   "execution_count": null,
   "id": "f0f30178-f440-4c8d-b89a-623e3783f478",
   "metadata": {},
   "outputs": [],
   "source": [
    "print(classification_report(y_test, model_xgb.predict(x_test)))"
   ]
  },
  {
   "cell_type": "code",
   "execution_count": null,
   "id": "8d13ee94-70a0-46e4-a292-0e3c58b20215",
   "metadata": {},
   "outputs": [],
   "source": [
    "model_xgb = XGBClassifier(**best_xgb_params_1)\n",
    "model_xgb.fit(X,y)"
   ]
  },
  {
   "cell_type": "code",
   "execution_count": null,
   "id": "4f52b065-89ab-4fd9-b3cd-32dcc01bc44c",
   "metadata": {},
   "outputs": [],
   "source": [
    "print(f'Concordance Index: {concordance_index(y_test, model_xgb.predict_proba(x_test)[:,1])}')"
   ]
  },
  {
   "cell_type": "code",
   "execution_count": null,
   "id": "2df0b997-173f-486d-ae70-6ca462600e46",
   "metadata": {},
   "outputs": [],
   "source": [
    "print(classification_report(y_test, model_xgb.predict(x_test)))"
   ]
  },
  {
   "cell_type": "code",
   "execution_count": null,
   "id": "6727750a-97e1-4b33-9bd6-f48214d8ddf9",
   "metadata": {},
   "outputs": [],
   "source": []
  },
  {
   "cell_type": "code",
   "execution_count": null,
   "id": "7494fec9-2793-45e0-acea-04d6d812a0f1",
   "metadata": {},
   "outputs": [],
   "source": []
  },
  {
   "cell_type": "code",
   "execution_count": null,
   "id": "516d487e-d4f1-4f6f-95a6-33bc7097c415",
   "metadata": {},
   "outputs": [],
   "source": []
  }
 ],
 "metadata": {
  "kernelspec": {
   "display_name": "Python 3 (ipykernel)",
   "language": "python",
   "name": "python3"
  },
  "language_info": {
   "codemirror_mode": {
    "name": "ipython",
    "version": 3
   },
   "file_extension": ".py",
   "mimetype": "text/x-python",
   "name": "python",
   "nbconvert_exporter": "python",
   "pygments_lexer": "ipython3",
   "version": "3.10.12"
  }
 },
 "nbformat": 4,
 "nbformat_minor": 5
}
